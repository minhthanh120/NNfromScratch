{
 "cells": [
  {
   "cell_type": "code",
   "execution_count": 1,
   "id": "b96ba6b3",
   "metadata": {},
   "outputs": [],
   "source": [
    "import pandas as pd\n",
    "import numpy as np\n",
    "from Perceptron import Perceptron\n",
    "from Ultilities import make_binarylabel\n",
    "from sklearn.metrics import accuracy_score\n",
    "from sklearn.model_selection import train_test_split"
   ]
  },
  {
   "cell_type": "code",
   "execution_count": 2,
   "id": "5eb431bf",
   "metadata": {},
   "outputs": [
    {
     "data": {
      "text/html": [
       "<div>\n",
       "<style scoped>\n",
       "    .dataframe tbody tr th:only-of-type {\n",
       "        vertical-align: middle;\n",
       "    }\n",
       "\n",
       "    .dataframe tbody tr th {\n",
       "        vertical-align: top;\n",
       "    }\n",
       "\n",
       "    .dataframe thead th {\n",
       "        text-align: right;\n",
       "    }\n",
       "</style>\n",
       "<table border=\"1\" class=\"dataframe\">\n",
       "  <thead>\n",
       "    <tr style=\"text-align: right;\">\n",
       "      <th></th>\n",
       "      <th>0</th>\n",
       "      <th>1</th>\n",
       "      <th>2</th>\n",
       "      <th>3</th>\n",
       "      <th>4</th>\n",
       "    </tr>\n",
       "  </thead>\n",
       "  <tbody>\n",
       "    <tr>\n",
       "      <th>0</th>\n",
       "      <td>5.1</td>\n",
       "      <td>3.5</td>\n",
       "      <td>1.4</td>\n",
       "      <td>0.2</td>\n",
       "      <td>Iris-setosa</td>\n",
       "    </tr>\n",
       "    <tr>\n",
       "      <th>1</th>\n",
       "      <td>4.9</td>\n",
       "      <td>3.0</td>\n",
       "      <td>1.4</td>\n",
       "      <td>0.2</td>\n",
       "      <td>Iris-setosa</td>\n",
       "    </tr>\n",
       "    <tr>\n",
       "      <th>2</th>\n",
       "      <td>4.7</td>\n",
       "      <td>3.2</td>\n",
       "      <td>1.3</td>\n",
       "      <td>0.2</td>\n",
       "      <td>Iris-setosa</td>\n",
       "    </tr>\n",
       "    <tr>\n",
       "      <th>3</th>\n",
       "      <td>4.6</td>\n",
       "      <td>3.1</td>\n",
       "      <td>1.5</td>\n",
       "      <td>0.2</td>\n",
       "      <td>Iris-setosa</td>\n",
       "    </tr>\n",
       "    <tr>\n",
       "      <th>4</th>\n",
       "      <td>5.0</td>\n",
       "      <td>3.6</td>\n",
       "      <td>1.4</td>\n",
       "      <td>0.2</td>\n",
       "      <td>Iris-setosa</td>\n",
       "    </tr>\n",
       "  </tbody>\n",
       "</table>\n",
       "</div>"
      ],
      "text/plain": [
       "     0    1    2    3            4\n",
       "0  5.1  3.5  1.4  0.2  Iris-setosa\n",
       "1  4.9  3.0  1.4  0.2  Iris-setosa\n",
       "2  4.7  3.2  1.3  0.2  Iris-setosa\n",
       "3  4.6  3.1  1.5  0.2  Iris-setosa\n",
       "4  5.0  3.6  1.4  0.2  Iris-setosa"
      ]
     },
     "execution_count": 2,
     "metadata": {},
     "output_type": "execute_result"
    }
   ],
   "source": [
    "data = pd.read_csv(\"iris.data\", header=None)\n",
    "data.head()"
   ]
  },
  {
   "cell_type": "code",
   "execution_count": 3,
   "id": "99e6e9fa",
   "metadata": {},
   "outputs": [],
   "source": [
    "label = data.iloc[:,-1].unique()[1]\n",
    "data[4] = data.apply(lambda x: make_binarylabel(x[4], label), axis=1)\n",
    "data.iloc[1,][4]\n",
    "data = data.sample(frac=1, random_state=12).reset_index(drop=True)\n",
    "X = data.iloc[:,0:4]\n",
    "y= data.iloc[:, -1]\n",
    "X = X.to_numpy()\n",
    "y = y.to_numpy()"
   ]
  },
  {
   "cell_type": "code",
   "execution_count": 4,
   "id": "f2902dae",
   "metadata": {},
   "outputs": [
    {
     "data": {
      "text/plain": [
       "'Iris-versicolor'"
      ]
     },
     "execution_count": 4,
     "metadata": {},
     "output_type": "execute_result"
    }
   ],
   "source": [
    "label"
   ]
  },
  {
   "cell_type": "code",
   "execution_count": 5,
   "id": "9050cbac",
   "metadata": {},
   "outputs": [],
   "source": [
    "train = 0.7\n",
    "val = 0.1\n",
    "test = 0.2\n",
    "X_train, X_test, y_train, y_test = train_test_split(\n",
    "    X, y, test_size=test, random_state=42)"
   ]
  },
  {
   "cell_type": "code",
   "execution_count": 6,
   "id": "1ab66f8f",
   "metadata": {},
   "outputs": [
    {
     "data": {
      "text/plain": [
       "(120, 4)"
      ]
     },
     "execution_count": 6,
     "metadata": {},
     "output_type": "execute_result"
    }
   ],
   "source": [
    "X_train.shape"
   ]
  },
  {
   "cell_type": "code",
   "execution_count": 7,
   "id": "649985af",
   "metadata": {},
   "outputs": [],
   "source": [
    "model = Perceptron(i = 10)"
   ]
  },
  {
   "cell_type": "code",
   "execution_count": 8,
   "id": "42439171",
   "metadata": {},
   "outputs": [],
   "source": [
    "model.fit(X_train, y_train)"
   ]
  },
  {
   "cell_type": "code",
   "execution_count": 9,
   "id": "13c11312",
   "metadata": {},
   "outputs": [
    {
     "name": "stdout",
     "output_type": "stream",
     "text": [
      "[5.1 3.5 1.4 0.3]\n"
     ]
    },
    {
     "data": {
      "text/plain": [
       "array([[1]])"
      ]
     },
     "execution_count": 9,
     "metadata": {},
     "output_type": "execute_result"
    }
   ],
   "source": [
    "model.predict(X_test[29])"
   ]
  },
  {
   "cell_type": "code",
   "execution_count": 10,
   "id": "376db676",
   "metadata": {},
   "outputs": [],
   "source": [
    "y_pred = np.array([])\n"
   ]
  },
  {
   "cell_type": "code",
   "execution_count": 11,
   "id": "4fbebacd",
   "metadata": {},
   "outputs": [
    {
     "name": "stdout",
     "output_type": "stream",
     "text": [
      "[7.9 3.8 6.4 2. ]\n",
      "[4.6 3.4 1.4 0.3]\n",
      "[5.8 2.7 5.1 1.9]\n",
      "[7.7 2.8 6.7 2. ]\n",
      "[5.7 3.8 1.7 0.3]\n",
      "[5.5 2.4 3.7 1. ]\n",
      "[5.8 2.8 5.1 2.4]\n",
      "[6.9 3.1 5.1 2.3]\n",
      "[5.  2.3 3.3 1. ]\n",
      "[4.7 3.2 1.6 0.2]\n",
      "[7.2 3.  5.8 1.6]\n",
      "[5.4 3.4 1.5 0.4]\n",
      "[5.6 2.9 3.6 1.3]\n",
      "[5.1 3.3 1.7 0.5]\n",
      "[6.3 2.5 4.9 1.5]\n",
      "[5.8 2.6 4.  1.2]\n",
      "[5.9 3.  5.1 1.8]\n",
      "[6.  2.7 5.1 1.6]\n",
      "[6.4 2.7 5.3 1.9]\n",
      "[5.  3.2 1.2 0.2]\n",
      "[4.5 2.3 1.3 0.3]\n",
      "[7.2 3.6 6.1 2.5]\n",
      "[6.7 3.  5.  1.7]\n",
      "[6.3 2.7 4.9 1.8]\n",
      "[6.3 3.3 6.  2.5]\n",
      "[6.8 2.8 4.8 1.4]\n",
      "[6.7 3.1 4.4 1.4]\n",
      "[5.  3.3 1.4 0.2]\n",
      "[5.4 3.7 1.5 0.2]\n",
      "[5.1 3.5 1.4 0.3]\n"
     ]
    }
   ],
   "source": [
    "for x in X_test:\n",
    "    pred = model.predict(x)\n",
    "    y_pred = np.append(y_pred, pred)"
   ]
  },
  {
   "cell_type": "code",
   "execution_count": 13,
   "id": "d496e9fd",
   "metadata": {},
   "outputs": [],
   "source": [
    "pred = lambda x: model.predict(x)\n",
    "def predict(X):\n",
    "    return pred(X)"
   ]
  },
  {
   "cell_type": "code",
   "execution_count": 16,
   "id": "42cd2054",
   "metadata": {},
   "outputs": [
    {
     "data": {
      "text/plain": [
       "(4,)"
      ]
     },
     "execution_count": 16,
     "metadata": {},
     "output_type": "execute_result"
    }
   ],
   "source": [
    "X_test[0].shape"
   ]
  },
  {
   "cell_type": "code",
   "execution_count": null,
   "id": "b61f21f6",
   "metadata": {},
   "outputs": [
    {
     "data": {
      "text/plain": [
       "array([1, 1, 1, 1, 1, 0, 1, 1, 0, 1, 1, 1, 0, 1, 0, 0, 1, 0, 1, 1, 1, 1,\n",
       "       0, 1, 1, 0, 0, 1, 1, 1], dtype=int64)"
      ]
     },
     "execution_count": 13,
     "metadata": {},
     "output_type": "execute_result"
    }
   ],
   "source": [
    "y_test"
   ]
  },
  {
   "cell_type": "code",
   "execution_count": null,
   "id": "e1e4438f",
   "metadata": {},
   "outputs": [
    {
     "data": {
      "text/plain": [
       "0.6"
      ]
     },
     "execution_count": 14,
     "metadata": {},
     "output_type": "execute_result"
    }
   ],
   "source": [
    "accuracy_score(y_pred, y_test)"
   ]
  }
 ],
 "metadata": {
  "kernelspec": {
   "display_name": "Python 3.9.10 64-bit",
   "language": "python",
   "name": "python3"
  },
  "language_info": {
   "codemirror_mode": {
    "name": "ipython",
    "version": 3
   },
   "file_extension": ".py",
   "mimetype": "text/x-python",
   "name": "python",
   "nbconvert_exporter": "python",
   "pygments_lexer": "ipython3",
   "version": "3.9.10"
  },
  "vscode": {
   "interpreter": {
    "hash": "6fff98fc3b3d81bd655c2cc48858186e4d9e2db7b515bf1c3221888f12a62f87"
   }
  }
 },
 "nbformat": 4,
 "nbformat_minor": 5
}
